{
 "cells": [
  {
   "cell_type": "code",
   "execution_count": null,
   "metadata": {},
   "outputs": [],
   "source": [
    "from docx import Document\n",
    "import pdftotext \n",
    "import sys\n",
    "\n",
    "\n",
    "fullText = []\n",
    "\n",
    "#detect doc type\n",
    "\n",
    "fname = input(\"   Please enter the full file name you would like to convert to mp3.\")\n",
    "if fname.endswith('.docx'):\n",
    "    document = Document(fname)\n",
    "    for p in document.paragraphs:\n",
    "        fullText.append(p.text)\n",
    "    fullText = str(fullText)\n",
    "    \n",
    "elif fname.endswith('.pdf'):\n",
    "    with open(fname, \"rb\") as pdf:\n",
    "        pdf = pdftotext.PDF(pdf)\n",
    "    fullText = \"\\n\\n\".join(pdf)\n",
    "    fullText = fullText.replace('\\n', '')\n",
    "    fullText = str(fullText)\n",
    "    \n",
    "elif \".\" not in fname:\n",
    "    raise Exception(\"    Please re-enter the full file name, including the extension.\")\n",
    "    \n",
    "else: \n",
    "     raise Exception(\"    Sorry, the current version of this script only supports converting pdf and docx files to mp3s.\")"
   ]
  },
  {
   "cell_type": "code",
   "execution_count": null,
   "metadata": {},
   "outputs": [],
   "source": [
    "#detect language \n",
    "\n",
    "import cld2\n",
    "details = cld2.detect(fullText)\n",
    "details[2]\n",
    "x = str(details)\n",
    "y =x.split(\"language_code='\")\n",
    "lang = y[1][:2]\n",
    "\n",
    "if lang ==\"zh\":\n",
    "    lang=\"zh-tw\" #Taiwanese Mandarin\n",
    "if lang == \"pt\":\n",
    "    lang==\"pt-br\" #Brazilian Portugeuse\n",
    "if lang ==\"fr\":\n",
    "    lang==\"fr-fr\" #French French\n",
    "if lang == \"en\":  \n",
    "    lang ==\"en-us\" #US English\n",
    "if lang == \"es\":\n",
    "    lang == \"es-us\" #US Spanish"
   ]
  },
  {
   "cell_type": "code",
   "execution_count": null,
   "metadata": {},
   "outputs": [],
   "source": [
    "#turn into mp3\n",
    "\n",
    "fn = fname.split('.')\n",
    "from gtts import gTTS  #import google text to speech\n",
    "tts = gTTS(text=fullText, lang=lang) \n",
    "#fn = input ('enter name of the mp3')\n",
    "tts.save(fn[0]+\".mp3\")\n",
    "print(fn[0]+\".mp3 now created! You can find it in your local directory.\")"
   ]
  },
  {
   "cell_type": "code",
   "execution_count": null,
   "metadata": {},
   "outputs": [],
   "source": []
  },
  {
   "cell_type": "code",
   "execution_count": null,
   "metadata": {},
   "outputs": [],
   "source": []
  },
  {
   "cell_type": "code",
   "execution_count": null,
   "metadata": {},
   "outputs": [],
   "source": []
  },
  {
   "cell_type": "code",
   "execution_count": null,
   "metadata": {},
   "outputs": [],
   "source": []
  },
  {
   "cell_type": "code",
   "execution_count": null,
   "metadata": {},
   "outputs": [],
   "source": []
  },
  {
   "cell_type": "code",
   "execution_count": null,
   "metadata": {},
   "outputs": [],
   "source": []
  },
  {
   "cell_type": "code",
   "execution_count": null,
   "metadata": {},
   "outputs": [],
   "source": []
  },
  {
   "cell_type": "code",
   "execution_count": null,
   "metadata": {},
   "outputs": [],
   "source": []
  },
  {
   "cell_type": "code",
   "execution_count": null,
   "metadata": {},
   "outputs": [],
   "source": []
  },
  {
   "cell_type": "code",
   "execution_count": null,
   "metadata": {},
   "outputs": [],
   "source": []
  }
 ],
 "metadata": {
  "kernelspec": {
   "display_name": "Python 3",
   "language": "python",
   "name": "python3"
  },
  "language_info": {
   "codemirror_mode": {
    "name": "ipython",
    "version": 3
   },
   "file_extension": ".py",
   "mimetype": "text/x-python",
   "name": "python",
   "nbconvert_exporter": "python",
   "pygments_lexer": "ipython3",
   "version": "3.7.3"
  }
 },
 "nbformat": 4,
 "nbformat_minor": 2
}
